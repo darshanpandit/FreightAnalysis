{
 "cells": [
  {
   "cell_type": "markdown",
   "metadata": {
    "collapsed": true,
    "slideshow": {
     "slide_type": "slide"
    }
   },
   "source": [
    "# Agricultural Markets & Freight Demands:\n",
    " \n",
    "\n",
    "### - Darshan Pandit"
   ]
  },
  {
   "cell_type": "markdown",
   "metadata": {
    "collapsed": true,
    "slideshow": {
     "slide_type": "subslide"
    }
   },
   "source": [
    "## Outline\n",
    "+ Overview of Agricultural Markets\n",
    "    * Conventional Market Structure\n",
    "    * Contract Farming\n",
    "    * Supermarket Revolution\n",
    "+ Literature evidences supporting linkages amongst Transportation Charecteristics & Agricultural Markets\n",
    "    * Built Environment & effects\n",
    "    * Effects of Subsidies\n",
    "    * Modeling a Farmers's freight Decision"
   ]
  },
  {
   "cell_type": "markdown",
   "metadata": {
    "slideshow": {
     "slide_type": "slide"
    }
   },
   "source": [
    "## Agricultural Markets"
   ]
  },
  {
   "cell_type": "markdown",
   "metadata": {
    "slideshow": {
     "slide_type": "subslide"
    }
   },
   "source": [
    "## The Grand Bazaars:\n",
    "Speculated Origins for the Urbanization.\n",
    "Wholesale & Retail Marketplaces\n",
    "![Istanbul, Spice Bazaar](images/1.jpg)\n"
   ]
  },
  {
   "cell_type": "markdown",
   "metadata": {
    "slideshow": {
     "slide_type": "subslide"
    }
   },
   "source": [
    "## The Ancient Port Cities:\n",
    "Transshipment nodes from the past\n",
    "Typically also were centers for Ship Building Activities\n",
    "![New Harbor](images/2.jpg)\n",
    "Evolved to Centers of Activities post Industrialization"
   ]
  },
  {
   "cell_type": "markdown",
   "metadata": {
    "slideshow": {
     "slide_type": "subslide"
    }
   },
   "source": [
    "### A Typical Agricultural Market Structure"
   ]
  },
  {
   "cell_type": "markdown",
   "metadata": {
    "slideshow": {
     "slide_type": "fragment"
    }
   },
   "source": [
    "+ Goods delivered in Bulk directly from Producers\n",
    "+ Market Based Bidding for Goods by Traders\n",
    "+ Storage facilities utilized by Traders\n",
    "+ Traders responsible for Inter-market freight delivery\n",
    "+ Retail Traders to distribute goods amongst the populace"
   ]
  },
  {
   "cell_type": "markdown",
   "metadata": {
    "slideshow": {
     "slide_type": "slide"
    }
   },
   "source": [
    "## Marketing Boards \n",
    "+ Trade for certain goods restricted only via these Channels\n",
    "+ Facilitates effective implementation of Subsidies\n",
    "+ Standardization of Infrastructure\n",
    "+ Competitive Marketplace\n",
    "+ eg: Agricultural Produce Market Committees (APMC), India, American Egg Board, British Potato Council"
   ]
  },
  {
   "cell_type": "markdown",
   "metadata": {
    "slideshow": {
     "slide_type": "subslide"
    }
   },
   "source": [
    "![APMC Market, Navi Mumbai, India](images/3.jpg)"
   ]
  },
  {
   "cell_type": "markdown",
   "metadata": {
    "slideshow": {
     "slide_type": "subslide"
    }
   },
   "source": [
    "#### Disadvantages:\n",
    "+ Exploitation of Producers by Traders\n",
    "+ Cartelization by Traders\n",
    "+ Market Inefficiencies owing to mismatches between Supply and Demand\n",
    "+ Infrastructure is regulated by the boards, but not provided by them.\n",
    "    "
   ]
  },
  {
   "cell_type": "markdown",
   "metadata": {
    "slideshow": {
     "slide_type": "slide"
    }
   },
   "source": [
    "### Contract Farming\n",
    "+ Evolved from the demand for High Value, Low Volume Agricultural Produce, eg: Tea, Coffee, Fruits\n",
    "+ Unregulated Market Structure\n",
    "+ Company (Consumer) provides facilitates for Freight, Infrastructural facilities, Resources like seeds etc.\n",
    "+ Scope for Economies of Scale\n",
    "+ Assured Purchase rates/wages for Producers.\n",
    "\n",
    "With increased efficiencies of Global Trade, High Volume Low Value Produce is on rise\n",
    "eg: Private companies from China & India, sourcing produce from Ethiopia, Nigeria"
   ]
  },
  {
   "cell_type": "markdown",
   "metadata": {
    "slideshow": {
     "slide_type": "subslide"
    }
   },
   "source": [
    "### Insights & Devlopments\n",
    "+ Auctions for Soy Plantations over Online Marketplaces.\n",
    "+ A study on Contract farm in China suggested only a moderate rise in the Income of Contract Farms and was also spatially correlated to existing availability of Infrastructure[1]\n",
    "\n",
    "*[1]: Impact of Contract Farming on Income: Linking Small Farmers, Packers, and Supermarkets in China - SACHIKO MIYATA*"
   ]
  },
  {
   "cell_type": "markdown",
   "metadata": {
    "slideshow": {
     "slide_type": "slide"
    }
   },
   "source": [
    "### Supermarket Economies\n",
    "+ Exploits Economies of Scale\n",
    "+ Production, Transport, Processing is Heavily Industrialized.\n",
    "![Banana Dole](images/4.jpg)"
   ]
  },
  {
   "cell_type": "markdown",
   "metadata": {
    "collapsed": true,
    "slideshow": {
     "slide_type": "slide"
    }
   },
   "source": [
    "### Why should we be concerned\n",
    "+ Increasing demand for High Value goods, and higher demand overall owing to increased Incomes in Developing Countries\n",
    "+ Better Prediction at Freight Demands can heko us deisng better systems!\n",
    "+ Food Security is a critical National Concern for any country.\n",
    "#### And more..."
   ]
  },
  {
   "cell_type": "markdown",
   "metadata": {
    "slideshow": {
     "slide_type": "subslide"
    }
   },
   "source": [
    "+ Built Environment affects Freight Systems\n",
    "\n",
    "A study[2] reported suggested losses of over 8% of Tomato produce in State of California owing to Rural road conditions\n",
    "\n",
    "\n",
    "*[2] : Evaluation of the Effect of Rural Road Condition on Agricultural Produce Transportation - B. Nokes*"
   ]
  },
  {
   "cell_type": "markdown",
   "metadata": {
    "slideshow": {
     "slide_type": "subslide"
    }
   },
   "source": [
    "+ Freight Demand is sensitive to Transportation Rates\n",
    "[3] using Market data, suggests sensitivity of Bulk Wheat, Corn, Soy Exports to Bulk Freight Prices.\n",
    "[4] suggests an influence of grain barge rates at the upper Mississippi/Illinois Rivers over domestic corn markets\n",
    "\n",
    "+ Mode Choices are sensitive to both Price and Quantity[5]\n",
    "\n",
    "*[3] : The dynamic relationship between freight markets and commodity prices revealed - Vangelis TsioumasStratos Papadimitriou*\n",
    "\n",
    "*[4] : Price Dynamics in U.S. Grain and Freight Markets - Tun-Hsiang (Edward) Yu, David A. Bessler, Stephen W. Fulle*\n",
    "\n",
    "*[5] : Discrete Choice Model of Agricultural Shipper's Mode Choice -  Subhro Mitra*"
   ]
  },
  {
   "cell_type": "markdown",
   "metadata": {
    "slideshow": {
     "slide_type": "subslide"
    }
   },
   "source": [
    "+ Care where and how your food is sourced?\n",
    "Organic and Fair Trade Sourced Goods.\n"
   ]
  },
  {
   "cell_type": "markdown",
   "metadata": {
    "slideshow": {
     "slide_type": "fragment"
    }
   },
   "source": [
    "+ Contract Farming may not necessarily yield in Higher Incomes for Farmers[1]\n",
    "\n"
   ]
  },
  {
   "cell_type": "markdown",
   "metadata": {
    "slideshow": {
     "slide_type": "slide"
    }
   },
   "source": [
    "# Conclusion"
   ]
  }
 ],
 "metadata": {
  "celltoolbar": "Slideshow",
  "kernelspec": {
   "display_name": "Python 3",
   "language": "python",
   "name": "python3"
  },
  "language_info": {
   "codemirror_mode": {
    "name": "ipython",
    "version": 3
   },
   "file_extension": ".py",
   "mimetype": "text/x-python",
   "name": "python",
   "nbconvert_exporter": "python",
   "pygments_lexer": "ipython3",
   "version": "3.6.1"
  }
 },
 "nbformat": 4,
 "nbformat_minor": 2
}
